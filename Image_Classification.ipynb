{
 "cells": [
  {
   "cell_type": "code",
   "execution_count": 39,
   "id": "458384af-540c-420d-b6bd-d16df258a0b8",
   "metadata": {},
   "outputs": [],
   "source": [
    "import numpy as np\n",
    "import random\n",
    "import matplotlib.pyplot as plt\n",
    "from tensorflow.keras.models import Sequential\n",
    "from tensorflow.keras.layers import Conv2D, MaxPooling2D, Dense, Flatten"
   ]
  },
  {
   "cell_type": "code",
   "execution_count": 40,
   "id": "19a65144-e796-4d92-b247-3d7e2e19f36f",
   "metadata": {},
   "outputs": [],
   "source": [
    "X_train = np.loadtxt(\"input.csv\", delimiter = ',')\n",
    "Y_train = np.loadtxt(\"labels.csv\", delimiter = ',')\n",
    "\n",
    "X_test = np.loadtxt(\"input_test.csv\", delimiter = ',')\n",
    "Y_test = np.loadtxt(\"labels_test.csv\", delimiter = ',')"
   ]
  },
  {
   "cell_type": "code",
   "execution_count": 41,
   "id": "7b607d00-5dbd-4c7b-97cd-f892dc9e0b3b",
   "metadata": {},
   "outputs": [],
   "source": [
    "X_train = X_train.reshape(len(X_train), 100, 100, 3)\n",
    "Y_train = Y_train.reshape(len(Y_train), 1)\n",
    "\n",
    "X_test = X_test.reshape(len(X_test), 100, 100, 3)\n",
    "Y_test = Y_train.reshape(len(Y_train), 1)\n"
   ]
  },
  {
   "cell_type": "code",
   "execution_count": 44,
   "id": "cf456669-79ba-4549-af55-d17f170215b9",
   "metadata": {},
   "outputs": [
    {
     "name": "stdout",
     "output_type": "stream",
     "text": [
      "Shape of X_train:  (2000, 100, 100, 3)\n",
      "Shape of Y_train:  (2000, 1)\n",
      "Shape of X_test:  (400, 100, 100, 3)\n",
      "Shape of X_test:  (2000, 1)\n"
     ]
    }
   ],
   "source": [
    "print(\"Shape of X_train: \", X_train.shape)\n",
    "print(\"Shape of Y_train: \", Y_train.shape)\n",
    "print(\"Shape of X_test: \", X_test.shape)\n",
    "print(\"Shape of X_test: \", Y_test.shape)"
   ]
  },
  {
   "cell_type": "code",
   "execution_count": 45,
   "id": "1ab766ab-d9a4-425e-8d88-05678b956a63",
   "metadata": {},
   "outputs": [
    {
     "data": {
      "text/plain": [
       "array([[[131., 128., 135.],\n",
       "        [160., 157., 164.],\n",
       "        [198., 192., 204.],\n",
       "        ...,\n",
       "        [250., 249., 247.],\n",
       "        [255., 255., 253.],\n",
       "        [250., 249., 245.]],\n",
       "\n",
       "       [[140., 137., 144.],\n",
       "        [127., 124., 131.],\n",
       "        [120., 114., 124.],\n",
       "        ...,\n",
       "        [251., 253., 252.],\n",
       "        [254., 255., 253.],\n",
       "        [254., 255., 251.]],\n",
       "\n",
       "       [[204., 202., 207.],\n",
       "        [187., 185., 190.],\n",
       "        [147., 142., 148.],\n",
       "        ...,\n",
       "        [249., 255., 255.],\n",
       "        [238., 247., 242.],\n",
       "        [232., 241., 236.]],\n",
       "\n",
       "       ...,\n",
       "\n",
       "       [[174., 182., 195.],\n",
       "        [172., 180., 193.],\n",
       "        [178., 186., 197.],\n",
       "        ...,\n",
       "        [ 87., 114.,  97.],\n",
       "        [ 75.,  99.,  83.],\n",
       "        [ 80., 105.,  86.]],\n",
       "\n",
       "       [[166., 173., 189.],\n",
       "        [164., 172., 185.],\n",
       "        [172., 180., 193.],\n",
       "        ...,\n",
       "        [ 78., 106.,  84.],\n",
       "        [ 72.,  97.,  76.],\n",
       "        [ 77., 102.,  81.]],\n",
       "\n",
       "       [[173., 180., 196.],\n",
       "        [172., 179., 195.],\n",
       "        [174., 182., 195.],\n",
       "        ...,\n",
       "        [ 63.,  91.,  69.],\n",
       "        [ 62.,  87.,  65.],\n",
       "        [ 71.,  96.,  74.]]])"
      ]
     },
     "execution_count": 45,
     "metadata": {},
     "output_type": "execute_result"
    }
   ],
   "source": [
    "X_train[1,:]"
   ]
  },
  {
   "cell_type": "code",
   "execution_count": 46,
   "id": "b671eda3-b9a4-45ef-8b6a-1d4def3a193c",
   "metadata": {},
   "outputs": [
    {
     "name": "stderr",
     "output_type": "stream",
     "text": [
      "Clipping input data to the valid range for imshow with RGB data ([0..1] for floats or [0..255] for integers).\n"
     ]
    },
    {
     "data": {
      "image/png": "[encoded data removed]",
      "text/plain": [
       "<Figure size 640x480 with 1 Axes>"
      ]
     },
     "metadata": {},
     "output_type": "display_data"
    }
   ],
   "source": [
    "idx = random.randint(0, len(X_train))\n",
    "plt.imshow(X_train[idx, :])\n",
    "plt.show()"
   ]
  },
  {
   "cell_type": "code",
   "execution_count": 47,
   "id": "28f32e8a-e2e6-44f7-b3c5-1a4c3a98c7bd",
   "metadata": {},
   "outputs": [],
   "source": [
    "model = Sequential([\n",
    "    Conv2D(32, (3,3), activation = 'relu', input_shape = (100, 100, 3)),\n",
    "    MaxPooling2D((2,2)),\n",
    "\n",
    "    Conv2D(32, (3,3), activation = 'relu'),\n",
    "    MaxPooling2D((2,2)),\n",
    "\n",
    "    Flatten(),\n",
    "    Dense(64, activation = 'relu'),\n",
    "    Dense(1, activation = 'sigmoid')\n",
    "])"
   ]
  },
  {
   "cell_type": "code",
   "execution_count": 48,
   "id": "b0162840-9112-4695-8015-e6288ce6d80a",
   "metadata": {},
   "outputs": [],
   "source": [
    "model = Sequential()\n",
    "\n",
    "model.add(Conv2D(32, (3,3), activation = 'relu', input_shape = (100, 100, 3)))\n",
    "model.add(MaxPooling2D((2,2)))\n",
    "\n",
    "model.add(Conv2D(32, (3,3), activation = 'relu'))\n",
    "model.add(MaxPooling2D((2,2)))\n",
    "\n",
    "model.add(Flatten())\n",
    "model.add(Dense(64, activation = 'relu'))\n",
    "model.add(Dense(1, activation = 'sigmoid'))"
   ]
  },
  {
   "cell_type": "code",
   "execution_count": 49,
   "id": "cdc5e11a-2cf0-489e-90b4-a7080b1bf71b",
   "metadata": {},
   "outputs": [],
   "source": [
    "model.compile(loss = 'binary_crossentropy', optimizer = 'adam', metrics = ['accuracy'])"
   ]
  },
  {
   "cell_type": "code",
   "execution_count": 50,
   "id": "f173410f-45f8-4b82-9ee1-e40413508bef",
   "metadata": {},
   "outputs": [
    {
     "name": "stdout",
     "output_type": "stream",
     "text": [
      "Epoch 1/5\n",
      "32/32 [==============================] - 14s 391ms/step - loss: 39.2465 - accuracy: 0.5005\n",
      "Epoch 2/5\n",
      "32/32 [==============================] - 12s 387ms/step - loss: 0.6523 - accuracy: 0.6180\n",
      "Epoch 3/5\n",
      "32/32 [==============================] - 14s 439ms/step - loss: 0.5480 - accuracy: 0.7325\n",
      "Epoch 4/5\n",
      "32/32 [==============================] - 14s 426ms/step - loss: 0.3995 - accuracy: 0.8205\n",
      "Epoch 5/5\n",
      "32/32 [==============================] - 14s 448ms/step - loss: 0.2709 - accuracy: 0.8980\n"
     ]
    },
    {
     "data": {
      "text/plain": [
       "<keras.src.callbacks.History at 0x1cf8898a6d0>"
      ]
     },
     "execution_count": 50,
     "metadata": {},
     "output_type": "execute_result"
    }
   ],
   "source": [
    "model.fit(X_train, Y_train, epochs = 5, batch_size = 64)"
   ]
  },
  {
   "cell_type": "code",
   "execution_count": 53,
   "id": "cb8a308e-5940-4ecb-8f6e-a9b555884e14",
   "metadata": {},
   "outputs": [
    {
     "name": "stdout",
     "output_type": "stream",
     "text": [
      "63/63 [==============================] - 4s 55ms/step - loss: 0.1659 - accuracy: 0.9510\n"
     ]
    },
    {
     "data": {
      "text/plain": [
       "[0.1659468710422516, 0.9509999752044678]"
      ]
     },
     "execution_count": 53,
     "metadata": {},
     "output_type": "execute_result"
    }
   ],
   "source": [
    "model.evaluate(X_train, Y_train)"
   ]
  },
  {
   "cell_type": "code",
   "execution_count": 67,
   "id": "d7440860-b9c8-454d-9427-53115f4115c7",
   "metadata": {},
   "outputs": [
    {
     "name": "stderr",
     "output_type": "stream",
     "text": [
      "Clipping input data to the valid range for imshow with RGB data ([0..1] for floats or [0..255] for integers).\n"
     ]
    },
    {
     "data": {
      "image/png": "[encoded data removed]",
      "text/plain": [
       "<Figure size 640x480 with 1 Axes>"
      ]
     },
     "metadata": {},
     "output_type": "display_data"
    },
    {
     "name": "stdout",
     "output_type": "stream",
     "text": [
      "1/1 [==============================] - 0s 70ms/step\n",
      "Our model says it is a : dog\n",
      "[[False]]\n"
     ]
    }
   ],
   "source": [
    "idx2 = random.randint(0, len(Y_test))\n",
    "plt.imshow(X_train[idx2, :])\n",
    "plt.show()\n",
    "\n",
    "y_pred = model.predict(X_train[idx2, :].reshape(1, 100, 100, 3))\n",
    "y_pred = y_pred > 0.5\n",
    "\n",
    "if(y_pred == 0):\n",
    "    pred = 'dog'\n",
    "else:\n",
    "    pred = 'cat'\n",
    "print(\"Our model says it is a :\", pred)\n",
    "print(y_pred)"
   ]
  },
  {
   "cell_type": "code",
   "execution_count": null,
   "id": "9f889d80-04fd-448c-bd36-59cf1a0b18c5",
   "metadata": {},
   "outputs": [],
   "source": []
  },
  {
   "cell_type": "code",
   "execution_count": null,
   "id": "06dd6c3d-1420-4ef3-82ae-5aafa2f001d9",
   "metadata": {},
   "outputs": [],
   "source": []
  },
  {
   "cell_type": "code",
   "execution_count": null,
   "id": "487ba57d-56c1-4389-9a39-beb01ae3921e",
   "metadata": {},
   "outputs": [],
   "source": []
  }
 ],
 "metadata": {
  "kernelspec": {
   "display_name": "Python 3 (ipykernel)",
   "language": "python",
   "name": "python3"
  },
  "language_info": {
   "codemirror_mode": {
    "name": "ipython",
    "version": 3
   },
   "file_extension": ".py",
   "mimetype": "text/x-python",
   "name": "python",
   "nbconvert_exporter": "python",
   "pygments_lexer": "ipython3",
   "version": "3.11.5"
  }
 },
 "nbformat": 4,
 "nbformat_minor": 5
}
